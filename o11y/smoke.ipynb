{
 "cells": [
  {
   "cell_type": "code",
   "execution_count": 1,
   "id": "07827d16-8a84-4280-ab52-cece5b6dbaf1",
   "metadata": {},
   "outputs": [
    {
     "name": "stdout",
     "output_type": "stream",
     "text": [
      "Processing ./dist/o11y-0.1.0-py3-none-linux_aarch64.whl\n",
      "Collecting requests>=2.31.0 (from o11y==0.1.0)\n",
      "  Downloading requests-2.31.0-py3-none-any.whl.metadata (4.6 kB)\n",
      "Collecting charset-normalizer<4,>=2 (from requests>=2.31.0->o11y==0.1.0)\n",
      "  Downloading charset_normalizer-3.3.2-cp311-cp311-manylinux_2_17_aarch64.manylinux2014_aarch64.whl.metadata (33 kB)\n",
      "Collecting idna<4,>=2.5 (from requests>=2.31.0->o11y==0.1.0)\n",
      "  Downloading idna-3.7-py3-none-any.whl.metadata (9.9 kB)\n",
      "Collecting urllib3<3,>=1.21.1 (from requests>=2.31.0->o11y==0.1.0)\n",
      "  Downloading urllib3-2.2.1-py3-none-any.whl.metadata (6.4 kB)\n",
      "Collecting certifi>=2017.4.17 (from requests>=2.31.0->o11y==0.1.0)\n",
      "  Downloading certifi-2024.2.2-py3-none-any.whl.metadata (2.2 kB)\n",
      "Downloading requests-2.31.0-py3-none-any.whl (62 kB)\n",
      "\u001b[2K   \u001b[90m━━━━━━━━━━━━━━━━━━━━━━━━━━━━━━━━━━━━━━━━\u001b[0m \u001b[32m62.6/62.6 kB\u001b[0m \u001b[31m2.9 MB/s\u001b[0m eta \u001b[36m0:00:00\u001b[0m\n",
      "\u001b[?25hDownloading certifi-2024.2.2-py3-none-any.whl (163 kB)\n",
      "\u001b[2K   \u001b[90m━━━━━━━━━━━━━━━━━━━━━━━━━━━━━━━━━━━━━━━━\u001b[0m \u001b[32m163.8/163.8 kB\u001b[0m \u001b[31m4.7 MB/s\u001b[0m eta \u001b[36m0:00:00\u001b[0m\n",
      "\u001b[?25hDownloading charset_normalizer-3.3.2-cp311-cp311-manylinux_2_17_aarch64.manylinux2014_aarch64.whl (136 kB)\n",
      "\u001b[2K   \u001b[90m━━━━━━━━━━━━━━━━━━━━━━━━━━━━━━━━━━━━━━━━\u001b[0m \u001b[32m136.6/136.6 kB\u001b[0m \u001b[31m11.8 MB/s\u001b[0m eta \u001b[36m0:00:00\u001b[0m\n",
      "\u001b[?25hDownloading idna-3.7-py3-none-any.whl (66 kB)\n",
      "\u001b[2K   \u001b[90m━━━━━━━━━━━━━━━━━━━━━━━━━━━━━━━━━━━━━━━━\u001b[0m \u001b[32m66.8/66.8 kB\u001b[0m \u001b[31m15.1 MB/s\u001b[0m eta \u001b[36m0:00:00\u001b[0m\n",
      "\u001b[?25hDownloading urllib3-2.2.1-py3-none-any.whl (121 kB)\n",
      "\u001b[2K   \u001b[90m━━━━━━━━━━━━━━━━━━━━━━━━━━━━━━━━━━━━━━━━\u001b[0m \u001b[32m121.1/121.1 kB\u001b[0m \u001b[31m21.9 MB/s\u001b[0m eta \u001b[36m0:00:00\u001b[0m\n",
      "\u001b[?25hInstalling collected packages: urllib3, idna, charset-normalizer, certifi, requests, o11y\n",
      "  Attempting uninstall: urllib3\n",
      "    Found existing installation: urllib3 2.2.1\n",
      "    Uninstalling urllib3-2.2.1:\n",
      "      Successfully uninstalled urllib3-2.2.1\n",
      "  Attempting uninstall: idna\n",
      "    Found existing installation: idna 3.7\n",
      "    Uninstalling idna-3.7:\n",
      "      Successfully uninstalled idna-3.7\n",
      "  Attempting uninstall: charset-normalizer\n",
      "    Found existing installation: charset-normalizer 3.3.2\n",
      "    Uninstalling charset-normalizer-3.3.2:\n",
      "      Successfully uninstalled charset-normalizer-3.3.2\n",
      "  Attempting uninstall: certifi\n",
      "    Found existing installation: certifi 2024.2.2\n",
      "    Uninstalling certifi-2024.2.2:\n",
      "      Successfully uninstalled certifi-2024.2.2\n",
      "  Attempting uninstall: requests\n",
      "    Found existing installation: requests 2.31.0\n",
      "    Uninstalling requests-2.31.0:\n",
      "      Successfully uninstalled requests-2.31.0\n",
      "Successfully installed certifi-2024.2.2 charset-normalizer-3.3.2 idna-3.7 o11y-0.1.0 requests-2.31.0 urllib3-2.2.1\n"
     ]
    }
   ],
   "source": [
    "# Funny installation method for installing into this notebook in a docker container\n",
    "# In real use this should be \"pip install o11y\"\n",
    "import platform\n",
    "\n",
    "# Detect the architecture\n",
    "arch = platform.machine()\n",
    "\n",
    "# Determine the appropriate wheel file based on the architecture\n",
    "if arch == 'x86_64':\n",
    "    wheel_file = './dist/*linux_x86_64.whl'\n",
    "elif arch == 'aarch64' or arch == 'arm64':\n",
    "    wheel_file = './dist/*linux_aarch64.whl'\n",
    "else:\n",
    "    raise ValueError(f\"Unsupported architecture: {arch}\")\n",
    "\n",
    "\n",
    "!pip install {wheel_file} --force-reinstall"
   ]
  },
  {
   "cell_type": "code",
   "execution_count": 2,
   "id": "b3a03c39-891a-4524-a258-36f1a7104dcf",
   "metadata": {},
   "outputs": [
    {
     "name": "stdout",
     "output_type": "stream",
     "text": [
      "Go plugin launched successfully\n"
     ]
    }
   ],
   "source": [
    "import o11y"
   ]
  },
  {
   "cell_type": "code",
   "execution_count": 3,
   "id": "fc49064e-9974-4d7f-9ef1-c08d9fb06087",
   "metadata": {},
   "outputs": [
    {
     "name": "stdout",
     "output_type": "stream",
     "text": [
      "83bcaff6228b39bbe431af5e19fb4368e2a03dd3@ai-training-api:8000\n"
     ]
    }
   ],
   "source": [
    "import os\n",
    "# Verify we have credentials set in environment\n",
    "# In principle it should be possible to do \"o11y login\" to set this from the command line\n",
    "print(os.environ['GF_AI_TRAINING_CREDS'])"
   ]
  },
  {
   "cell_type": "code",
   "execution_count": 4,
   "id": "e6a85341-29d2-4e19-b7e9-429c5c7f6d95",
   "metadata": {
    "scrolled": true
   },
   "outputs": [
    {
     "name": "stdout",
     "output_type": "stream",
     "text": [
      "lr: 0.01\n",
      "epoch=2, accuracy=0.3619442396391509, loss=0.4670409088511358\n",
      "epoch=3, accuracy=0.6796477868289498, loss=0.3582889067034011\n",
      "epoch=4, accuracy=0.7605710182415426, loss=0.22021099963063268\n",
      "epoch=5, accuracy=0.7995029906952056, loss=0.30807063140012325\n",
      "epoch=6, accuracy=0.7141078943823662, loss=0.26216797631156985\n",
      "epoch=7, accuracy=0.7195124522352594, loss=0.18917365674531686\n",
      "epoch=8, accuracy=0.7879089093229549, loss=0.19417962404846562\n",
      "epoch=9, accuracy=0.8470992428897597, loss=0.15444473279346893\n"
     ]
    }
   ],
   "source": [
    "import random \n",
    "\n",
    "epochs = 10\n",
    "lr = 0.01\n",
    "\n",
    "run = o11y.init(\n",
    "    # Set the project where this run will be logged\n",
    "    project=\"my-awesome-project\",\n",
    "    # Track hyperparameters and run metadata\n",
    "    metadata={\n",
    "        \"config\": {\n",
    "            \"learning_rate\": lr,\n",
    "            \"epochs\": epochs,\n",
    "            \"feed_forward\": {\n",
    "                \"activation\": \"swiglu\",\n",
    "                \"d_model\": 1024,\n",
    "            }\n",
    "        },\n",
    "        \"git_commit\": \"some_hash_goes_here\",\n",
    "    },\n",
    ")\n",
    "\n",
    "offset = random.random() / 5\n",
    "print(f\"lr: {lr}\")\n",
    "\n",
    "# simulating a training run\n",
    "for epoch in range(2, epochs):\n",
    "    acc = 1 - 2**-epoch - random.random() / epoch - offset\n",
    "    loss = 2**-epoch + random.random() / epoch + offset\n",
    "    print(f\"epoch={epoch}, accuracy={acc}, loss={loss}\")\n",
    "    o11y.log({\"accuracy\": acc, \"loss\": loss})\n",
    "    if epoch == epochs:\n",
    "        o11y.update({\n",
    "            \"final_accuracy\": acc,\n",
    "            \"final_loss\": loss\n",
    "        })"
   ]
  }
 ],
 "metadata": {
  "kernelspec": {
   "display_name": "Python 3 (ipykernel)",
   "language": "python",
   "name": "python3"
  },
  "language_info": {
   "codemirror_mode": {
    "name": "ipython",
    "version": 3
   },
   "file_extension": ".py",
   "mimetype": "text/x-python",
   "name": "python",
   "nbconvert_exporter": "python",
   "pygments_lexer": "ipython3",
   "version": "3.11.9"
  }
 },
 "nbformat": 4,
 "nbformat_minor": 5
}
