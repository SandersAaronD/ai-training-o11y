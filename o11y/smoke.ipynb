{
 "cells": [
  {
   "cell_type": "code",
   "execution_count": 1,
   "id": "07827d16-8a84-4280-ab52-cece5b6dbaf1",
   "metadata": {},
   "outputs": [
    {
     "name": "stdout",
     "output_type": "stream",
     "text": [
      "Obtaining file:///home/jovyan\n",
      "  Installing build dependencies ... \u001b[?25ldone\n",
      "\u001b[?25h  Checking if build backend supports build_editable ... \u001b[?25ldone\n",
      "\u001b[?25h  Getting requirements to build editable ... \u001b[?25ldone\n",
      "\u001b[?25h  Preparing editable metadata (pyproject.toml) ... \u001b[?25ldone\n",
      "\u001b[?25hRequirement already satisfied: pydantic<3.0.0,>=2.7.0 in /opt/conda/lib/python3.11/site-packages (from o11y==0.1.0) (2.7.1)\n",
      "Requirement already satisfied: python-logging-loki<0.4.0,>=0.3.1 in /opt/conda/lib/python3.11/site-packages (from o11y==0.1.0) (0.3.1)\n",
      "Requirement already satisfied: regex<2025.0.0,>=2024.4.16 in /opt/conda/lib/python3.11/site-packages (from o11y==0.1.0) (2024.4.16)\n",
      "Requirement already satisfied: requests<3.0.0,>=2.31.0 in /opt/conda/lib/python3.11/site-packages (from o11y==0.1.0) (2.31.0)\n",
      "Requirement already satisfied: annotated-types>=0.4.0 in /opt/conda/lib/python3.11/site-packages (from pydantic<3.0.0,>=2.7.0->o11y==0.1.0) (0.6.0)\n",
      "Requirement already satisfied: pydantic-core==2.18.2 in /opt/conda/lib/python3.11/site-packages (from pydantic<3.0.0,>=2.7.0->o11y==0.1.0) (2.18.2)\n",
      "Requirement already satisfied: typing-extensions>=4.6.1 in /opt/conda/lib/python3.11/site-packages (from pydantic<3.0.0,>=2.7.0->o11y==0.1.0) (4.11.0)\n",
      "Requirement already satisfied: rfc3339>=6.1 in /opt/conda/lib/python3.11/site-packages (from python-logging-loki<0.4.0,>=0.3.1->o11y==0.1.0) (6.2)\n",
      "Requirement already satisfied: charset-normalizer<4,>=2 in /opt/conda/lib/python3.11/site-packages (from requests<3.0.0,>=2.31.0->o11y==0.1.0) (3.3.2)\n",
      "Requirement already satisfied: idna<4,>=2.5 in /opt/conda/lib/python3.11/site-packages (from requests<3.0.0,>=2.31.0->o11y==0.1.0) (3.7)\n",
      "Requirement already satisfied: urllib3<3,>=1.21.1 in /opt/conda/lib/python3.11/site-packages (from requests<3.0.0,>=2.31.0->o11y==0.1.0) (2.2.1)\n",
      "Requirement already satisfied: certifi>=2017.4.17 in /opt/conda/lib/python3.11/site-packages (from requests<3.0.0,>=2.31.0->o11y==0.1.0) (2024.2.2)\n",
      "Building wheels for collected packages: o11y\n",
      "  Building editable for o11y (pyproject.toml) ... \u001b[?25ldone\n",
      "\u001b[?25h  Created wheel for o11y: filename=o11y-0.1.0-py3-none-any.whl size=1147 sha256=0360bd32a7d46234540a4a816215b332475e17a3e44321e0ad2ea0e853b9a6bc\n",
      "  Stored in directory: /tmp/pip-ephem-wheel-cache-bcj7joe0/wheels/d5/0b/b6/3714fd2d5297ec16b9fe56b0d4ce5d9925529ac2d0c67d4765\n",
      "Successfully built o11y\n",
      "Installing collected packages: o11y\n",
      "  Attempting uninstall: o11y\n",
      "    Found existing installation: o11y 0.1.0\n",
      "    Uninstalling o11y-0.1.0:\n",
      "      Successfully uninstalled o11y-0.1.0\n",
      "Successfully installed o11y-0.1.0\n"
     ]
    }
   ],
   "source": [
    "# Editable install for development\n",
    "# In real use this should be \"pip install o11y\"\n",
    "!pip install -e ."
   ]
  },
  {
   "cell_type": "code",
   "execution_count": 2,
   "id": "b3a03c39-891a-4524-a258-36f1a7104dcf",
   "metadata": {},
   "outputs": [],
   "source": [
    "import o11y"
   ]
  },
  {
   "cell_type": "code",
   "execution_count": 3,
   "id": "fc49064e-9974-4d7f-9ef1-c08d9fb06087",
   "metadata": {},
   "outputs": [
    {
     "name": "stdout",
     "output_type": "stream",
     "text": [
      "83bcaff6228b39bbe431af5e19fb4368e2a03dd3@localhost:3456\n"
     ]
    }
   ],
   "source": [
    "import os\n",
    "# Verify we have credentials set in environment\n",
    "# In principle it should be possible to do \"o11y login\" to set this from the command line\n",
    "print(os.environ['GF_AI_TRAINING_CREDS'])"
   ]
  },
  {
   "cell_type": "code",
   "execution_count": 4,
   "id": "e6a85341-29d2-4e19-b7e9-429c5c7f6d95",
   "metadata": {},
   "outputs": [
    {
     "ename": "AttributeError",
     "evalue": "'Client' object has no attribute 'process_uuid'",
     "output_type": "error",
     "traceback": [
      "\u001b[0;31m---------------------------------------------------------------------------\u001b[0m",
      "\u001b[0;31mAttributeError\u001b[0m                            Traceback (most recent call last)",
      "Cell \u001b[0;32mIn[4], line 6\u001b[0m\n\u001b[1;32m      3\u001b[0m epochs \u001b[38;5;241m=\u001b[39m \u001b[38;5;241m10\u001b[39m\n\u001b[1;32m      4\u001b[0m lr \u001b[38;5;241m=\u001b[39m \u001b[38;5;241m0.01\u001b[39m\n\u001b[0;32m----> 6\u001b[0m run \u001b[38;5;241m=\u001b[39m \u001b[43mo11y\u001b[49m\u001b[38;5;241;43m.\u001b[39;49m\u001b[43minit\u001b[49m\u001b[43m(\u001b[49m\n\u001b[1;32m      7\u001b[0m \u001b[43m    \u001b[49m\u001b[38;5;66;43;03m# Set the project where this run will be logged\u001b[39;49;00m\n\u001b[1;32m      8\u001b[0m \u001b[43m    \u001b[49m\u001b[43mproject\u001b[49m\u001b[38;5;241;43m=\u001b[39;49m\u001b[38;5;124;43m\"\u001b[39;49m\u001b[38;5;124;43mmy-awesome-project\u001b[39;49m\u001b[38;5;124;43m\"\u001b[39;49m\u001b[43m,\u001b[49m\n\u001b[1;32m      9\u001b[0m \u001b[43m    \u001b[49m\u001b[38;5;66;43;03m# Track hyperparameters and run metadata\u001b[39;49;00m\n\u001b[1;32m     10\u001b[0m \u001b[43m    \u001b[49m\u001b[43mmetadata\u001b[49m\u001b[38;5;241;43m=\u001b[39;49m\u001b[43m{\u001b[49m\n\u001b[1;32m     11\u001b[0m \u001b[43m        \u001b[49m\u001b[38;5;124;43m\"\u001b[39;49m\u001b[38;5;124;43mconfig\u001b[39;49m\u001b[38;5;124;43m\"\u001b[39;49m\u001b[43m:\u001b[49m\u001b[43m \u001b[49m\u001b[43m{\u001b[49m\n\u001b[1;32m     12\u001b[0m \u001b[43m            \u001b[49m\u001b[38;5;124;43m\"\u001b[39;49m\u001b[38;5;124;43mlearning_rate\u001b[39;49m\u001b[38;5;124;43m\"\u001b[39;49m\u001b[43m:\u001b[49m\u001b[43m \u001b[49m\u001b[43mlr\u001b[49m\u001b[43m,\u001b[49m\n\u001b[1;32m     13\u001b[0m \u001b[43m            \u001b[49m\u001b[38;5;124;43m\"\u001b[39;49m\u001b[38;5;124;43mepochs\u001b[39;49m\u001b[38;5;124;43m\"\u001b[39;49m\u001b[43m:\u001b[49m\u001b[43m \u001b[49m\u001b[43mepochs\u001b[49m\u001b[43m,\u001b[49m\n\u001b[1;32m     14\u001b[0m \u001b[43m            \u001b[49m\u001b[38;5;124;43m\"\u001b[39;49m\u001b[38;5;124;43mfeed_forward\u001b[39;49m\u001b[38;5;124;43m\"\u001b[39;49m\u001b[43m:\u001b[49m\u001b[43m \u001b[49m\u001b[43m{\u001b[49m\n\u001b[1;32m     15\u001b[0m \u001b[43m                \u001b[49m\u001b[38;5;124;43m\"\u001b[39;49m\u001b[38;5;124;43mactivation\u001b[39;49m\u001b[38;5;124;43m\"\u001b[39;49m\u001b[43m:\u001b[49m\u001b[43m \u001b[49m\u001b[38;5;124;43m\"\u001b[39;49m\u001b[38;5;124;43mswiglu\u001b[39;49m\u001b[38;5;124;43m\"\u001b[39;49m\u001b[43m,\u001b[49m\n\u001b[1;32m     16\u001b[0m \u001b[43m                \u001b[49m\u001b[38;5;124;43m\"\u001b[39;49m\u001b[38;5;124;43md_model\u001b[39;49m\u001b[38;5;124;43m\"\u001b[39;49m\u001b[43m:\u001b[49m\u001b[43m \u001b[49m\u001b[38;5;241;43m1024\u001b[39;49m\u001b[43m,\u001b[49m\n\u001b[1;32m     17\u001b[0m \u001b[43m            \u001b[49m\u001b[43m}\u001b[49m\n\u001b[1;32m     18\u001b[0m \u001b[43m        \u001b[49m\u001b[43m}\u001b[49m\u001b[43m,\u001b[49m\n\u001b[1;32m     19\u001b[0m \u001b[43m        \u001b[49m\u001b[38;5;124;43m\"\u001b[39;49m\u001b[38;5;124;43mgit_commit\u001b[39;49m\u001b[38;5;124;43m\"\u001b[39;49m\u001b[43m:\u001b[49m\u001b[43m \u001b[49m\u001b[38;5;124;43m\"\u001b[39;49m\u001b[38;5;124;43msome_hash_goes_here\u001b[39;49m\u001b[38;5;124;43m\"\u001b[39;49m\u001b[43m,\u001b[49m\n\u001b[1;32m     20\u001b[0m \u001b[43m    \u001b[49m\u001b[43m}\u001b[49m\u001b[43m,\u001b[49m\n\u001b[1;32m     21\u001b[0m \u001b[43m)\u001b[49m\n\u001b[1;32m     23\u001b[0m offset \u001b[38;5;241m=\u001b[39m random\u001b[38;5;241m.\u001b[39mrandom() \u001b[38;5;241m/\u001b[39m \u001b[38;5;241m5\u001b[39m\n\u001b[1;32m     24\u001b[0m \u001b[38;5;28mprint\u001b[39m(\u001b[38;5;124mf\u001b[39m\u001b[38;5;124m\"\u001b[39m\u001b[38;5;124mlr: \u001b[39m\u001b[38;5;132;01m{\u001b[39;00mlr\u001b[38;5;132;01m}\u001b[39;00m\u001b[38;5;124m\"\u001b[39m)\n",
      "File \u001b[0;32m~/o11y/exported/init.py:23\u001b[0m, in \u001b[0;36minit\u001b[0;34m(project, run, metadata)\u001b[0m\n\u001b[1;32m     20\u001b[0m \u001b[38;5;28;01mif\u001b[39;00m run:\n\u001b[1;32m     21\u001b[0m     data[\u001b[38;5;124m\"\u001b[39m\u001b[38;5;124mrun\u001b[39m\u001b[38;5;124m\"\u001b[39m] \u001b[38;5;241m=\u001b[39m run\n\u001b[0;32m---> 23\u001b[0m success \u001b[38;5;241m=\u001b[39m \u001b[43mclient\u001b[49m\u001b[38;5;241;43m.\u001b[39;49m\u001b[43mregister_process\u001b[49m\u001b[43m(\u001b[49m\u001b[43mdata\u001b[49m\u001b[43m)\u001b[49m\n\u001b[1;32m     24\u001b[0m \u001b[38;5;28;01mif\u001b[39;00m \u001b[38;5;129;01mnot\u001b[39;00m success:\n\u001b[1;32m     25\u001b[0m     logger\u001b[38;5;241m.\u001b[39merror(\u001b[38;5;124m\"\u001b[39m\u001b[38;5;124mInitialization failed, logs will NOT be sent.\u001b[39m\u001b[38;5;124m\"\u001b[39m)\n",
      "File \u001b[0;32m~/o11y/_internal/client.py:53\u001b[0m, in \u001b[0;36mClient.register_process\u001b[0;34m(self, user_metadata)\u001b[0m\n\u001b[1;32m     51\u001b[0m \u001b[38;5;28;01mdef\u001b[39;00m \u001b[38;5;21mregister_process\u001b[39m(\u001b[38;5;28mself\u001b[39m, user_metadata):\n\u001b[1;32m     52\u001b[0m     \u001b[38;5;66;03m# If the process is currently registered, clear everything from it\u001b[39;00m\n\u001b[0;32m---> 53\u001b[0m     \u001b[38;5;28;01mif\u001b[39;00m \u001b[38;5;28;43mself\u001b[39;49m\u001b[38;5;241;43m.\u001b[39;49m\u001b[43mprocess_uuid\u001b[49m:\n\u001b[1;32m     54\u001b[0m         \u001b[38;5;28mself\u001b[39m\u001b[38;5;241m.\u001b[39mprocess_uuid \u001b[38;5;241m=\u001b[39m \u001b[38;5;28;01mNone\u001b[39;00m\n\u001b[1;32m     55\u001b[0m         \u001b[38;5;28mself\u001b[39m\u001b[38;5;241m.\u001b[39muser_metadata \u001b[38;5;241m=\u001b[39m \u001b[38;5;28;01mNone\u001b[39;00m\n",
      "\u001b[0;31mAttributeError\u001b[0m: 'Client' object has no attribute 'process_uuid'"
     ]
    }
   ],
   "source": [
    "import random \n",
    "\n",
    "epochs = 10\n",
    "lr = 0.01\n",
    "\n",
    "run = o11y.init(\n",
    "    # Set the project where this run will be logged\n",
    "    project=\"my-awesome-project\",\n",
    "    # Track hyperparameters and run metadata\n",
    "    metadata={\n",
    "        \"config\": {\n",
    "            \"learning_rate\": lr,\n",
    "            \"epochs\": epochs,\n",
    "            \"feed_forward\": {\n",
    "                \"activation\": \"swiglu\",\n",
    "                \"d_model\": 1024,\n",
    "            }\n",
    "        },\n",
    "        \"git_commit\": \"some_hash_goes_here\",\n",
    "    },\n",
    ")\n",
    "\n",
    "offset = random.random() / 5\n",
    "print(f\"lr: {lr}\")\n",
    "\n",
    "# simulating a training run\n",
    "for epoch in range(2, epochs):\n",
    "    acc = 1 - 2**-epoch - random.random() / epoch - offset\n",
    "    loss = 2**-epoch + random.random() / epoch + offset\n",
    "    print(f\"epoch={epoch}, accuracy={acc}, loss={loss}\")\n",
    "    o11y.log({\"accuracy\": acc, \"loss\": loss})\n",
    "    if epoch == epochs:\n",
    "        o11y.update({\n",
    "            \"final_accuracy\": acc,\n",
    "            \"final_loss\": loss\n",
    "        })"
   ]
  }
 ],
 "metadata": {
  "kernelspec": {
   "display_name": "Python 3 (ipykernel)",
   "language": "python",
   "name": "python3"
  },
  "language_info": {
   "codemirror_mode": {
    "name": "ipython",
    "version": 3
   },
   "file_extension": ".py",
   "mimetype": "text/x-python",
   "name": "python",
   "nbconvert_exporter": "python",
   "pygments_lexer": "ipython3",
   "version": "3.11.8"
  }
 },
 "nbformat": 4,
 "nbformat_minor": 5
}
